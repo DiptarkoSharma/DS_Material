{
 "cells": [
  {
   "cell_type": "markdown",
   "id": "aa3f7c32",
   "metadata": {},
   "source": [
    "# Data Preprocessing\n",
    "What is Data Preprocessing?\n",
    "\n",
    "Data preprocessing is the first and critical step in data analysis or machine learning. It involves preparing raw data into a clean, usable format.\n",
    "Why is it important?\n",
    "Raw data is often incomplete, noisy, or inconsistent.\n",
    "Models perform better when data is clean and well-structured.\n",
    "<br>Example: Imagine a dataset with missing customer ages or extreme outliers in salary data—analysis on such a dataset could lead to incorrect conclusions.<br>"
   ]
  },
  {
   "cell_type": "markdown",
   "id": "f67cfee1",
   "metadata": {},
   "source": [
    "<h1>Necessity of Data Preprocessing Techniques</h1>\n",
    "Data preprocessing is a critical step in any data-driven project because raw data is often incomplete, inconsistent, and noisy. \n",
    "Effective preprocessing ensures that the dataset is ready for analysis or modeling, improving accuracy, interpretability, and \n",
    "efficiency. \n",
    "Here's why these techniques are necessary:\n",
    "<p>\n",
    "<h3>1. Data Cleaning</h3>\n",
    "<b>Handling Missing Data:</b>\n",
    "\n",
    "<b>Necessity:</b> Missing values can lead to biased analysis, skewed results, or errors in machine learning models.\n",
    "   <br>Approaches:</br>\n",
    "        <br>-Replace with mean, median, or mode (for numerical data).</br>\n",
    "        -Replace with most frequent category (for categorical data).\n",
    "        <br>-Use advanced techniques like k-nearest neighbors (KNN) imputation or regression models.</br>\n",
    "        -Drop rows/columns if the proportion of missing data is significant and doesn't hold much value.\n",
    "\n",
    "\n",
    " <b>Handling Outliers:</b>\n",
    " <b>Necessity:</b> Outliers can distort statistical summaries (mean, standard deviation) and negatively impact model      performance.\n",
    "    Approaches:\n",
    "        <br>-Use methods like Z-score, IQR (Interquartile Range), or visualization tools (e.g., box plots) to identify outliers.</br>\n",
    "        -Treat outliers by capping, removing, or transforming them to reduce their influence.\n",
    "</p>\n",
    "<p>\n",
    "<h3>2. Data Transformation</h3>\n",
    "<b>Normalization:</b>\n",
    "\n",
    "<b>Necessity:</b>\n",
    "Scales data to a specific range, often [0,1]\n",
    "making it essential for distance-based algorithms like k-nearest neighbors (KNN) or clustering (e.g., k-means).\n",
    "Prevents features with large ranges from dominating those with smaller ranges.\n",
    "Example:\n",
    "\n",
    "<br><b>Before: </b></br>\n",
    "\n",
    "[10,1000,50000]\n",
    "<br><b>After normalization: </b></br>\n",
    "\n",
    "[0.001,0.02,1]\n",
    "\n",
    "\n",
    "<b>Standardization:</b>\n",
    "\n",
    "<b>Necessity:</b>\n",
    "Transforms data to have a mean of 0 and a standard deviation of 1, which is critical for algorithms like Support Vector Machines (SVM), logistic regression, and principal component analysis (PCA).\n",
    "Helps models converge faster and ensures better performance when features have different units or distributions.\n",
    "Formula:\n",
    "</p> \n",
    "\n",
    "<p> \n",
    "<b>Benefits of Preprocessing</b>\n",
    "  \n",
    "-Improves Model Accuracy:\n",
    "\n",
    "-Models perform better with clean, normalized, or standardized data.\n",
    "-Removes noise, improving signal quality for learning algorithms.\n",
    "    \n",
    "-Reduces Computational Cost.\n",
    " \n",
    "-Well-processed data requires less computational effort to train models.\n",
    "-Ensures Consistency:\n",
    "-Provides reliable input for reproducible results.\n",
    "-Enhances Interpretability:\n",
    "-Preprocessed data is easier to visualize and analyze.\n",
    "-Avoids Model Bias:\n",
    "-Proper handling of missing values and outliers ensures that the model is not biased or skewed.\n",
    "</p> \n",
    "<p><h3>Conclusion</h3>\n",
    "Data preprocessing is indispensable for reliable and efficient data analysis or machine learning. Techniques like cleaning, normalization, and standardization ensure that datasets are consistent, accurate, and optimized for downstream tasks.\n",
    "</p>"
   ]
  },
  {
   "cell_type": "markdown",
   "id": "709f8d2b",
   "metadata": {},
   "source": [
    "<h2>Steps in Data Preprocessing:</h2>\n",
    "\n",
    "<br>1.Data Cleaning</br>\n",
    "<br>2. Data Transformation</br>\n",
    "<br>3. Feature Engineering </br>"
   ]
  },
  {
   "cell_type": "markdown",
   "id": "6e43358e",
   "metadata": {},
   "source": [
    "<h3>Data Cleaning</h3>\n",
    "Handling Missing Data\n",
    "Missing data occurs due to incomplete data collection, human error, or other reasons.\n",
    "Techniques:\n",
    "<br>Drop missing values: Use when missing data is minimal.</br>\n",
    "<br>Imputation: Fill in missing data with statistical measures (mean, median, mode) or predicted values.</br>"
   ]
  },
  {
   "cell_type": "code",
   "execution_count": 14,
   "id": "9efae15d",
   "metadata": {},
   "outputs": [
    {
     "name": "stdout",
     "output_type": "stream",
     "text": [
      "Missing Values:\n",
      " Age       2\n",
      "Salary    1\n",
      "dtype: int64\n",
      "\n",
      "After Imputation:\n",
      "          Age   Salary\n",
      "0  25.000000  50000.0\n",
      "1  33.333333  60000.0\n",
      "2  35.000000  70000.0\n",
      "3  40.000000  80000.0\n",
      "4  33.333333  90000.0\n"
     ]
    }
   ],
   "source": [
    "import pandas as pd\n",
    "import numpy as np\n",
    "\n",
    "# Sample data with missing values\n",
    "data = {'Age': [25, np.nan, 35, 40, np.nan], 'Salary': [50000, 60000, None, 80000, 90000]}\n",
    "df = pd.DataFrame(data)\n",
    "\n",
    "# Check for missing values\n",
    "print(\"Missing Values:\\n\", df.isnull().sum())\n",
    "\n",
    "# Fill missing values\n",
    "df['Age'].fillna(df['Age'].mean(), inplace=True)\n",
    "df['Salary'].fillna(70000, inplace=True)\n",
    "print(\"\\nAfter Imputation:\\n\", df)\n"
   ]
  },
  {
   "cell_type": "markdown",
   "id": "16e714d0",
   "metadata": {},
   "source": [
    "<h1>Handling Outliers</h1>\n",
    "\n",
    "<br>Outliers are data points significantly different from others.</br>\n",
    "Detection:\n",
    "<p><br>Visual: Boxplots or scatterplots.</br>\n",
    "Statistical: Z-score or IQR.</p>\n",
    "<br>Treatment:</br>\n",
    "Capping/truncating outliers.\n",
    "<br>Transforming data (log, square root, etc.).</br>"
   ]
  },
  {
   "cell_type": "markdown",
   "id": "29e3bee6",
   "metadata": {},
   "source": [
    "<h1>What are Quantiles?</h1>\n",
    "<p>Quartiles are the values that divide a list of numbers into quarters. the steps to find the quartile is.\n",
    "\n",
    "     -Put the list of numbers in order\n",
    "     -Then cut the list into 4 equal parts\n",
    "     -The quartiles are at the cuts\n",
    "</p>\n",
    "\n",
    "<b>Formulas for Quantile Positions:</b>\n",
    "For a dataset of size 𝑁, the position of the k-th quantile is given by:\n",
    "<b>Pk =kX(N+1/4)</b>\n",
    "Where:\n",
    "\n",
    "𝑘=1(Q1), 𝑘=2(Q2), 𝑘=3(Q3).\n",
    "\n",
    "\n"
   ]
  },
  {
   "cell_type": "code",
   "execution_count": 3,
   "id": "56fa3096",
   "metadata": {},
   "outputs": [
    {
     "name": "stdout",
     "output_type": "stream",
     "text": [
      "\n",
      "Data after Removing Outliers:\n",
      "          Age   Salary\n",
      "0  25.000000  50000.0\n",
      "1  33.333333  60000.0\n",
      "2  35.000000  70000.0\n",
      "3  40.000000  80000.0\n",
      "4  33.333333  90000.0\n"
     ]
    }
   ],
   "source": [
    "# Identify outliers using IQR\n",
    "Q1 = df['Salary'].quantile(0.25)\n",
    "Q3 = df['Salary'].quantile(0.75)\n",
    "IQR = Q3 - Q1\n",
    "lower_bound = Q1 - 1.5 * IQR\n",
    "upper_bound = Q3 + 1.5 * IQR\n",
    "\n",
    "# Filter out outliers\n",
    "df = df[(df['Salary'] >= lower_bound) & (df['Salary'] <= upper_bound)]\n",
    "print(\"\\nData after Removing Outliers:\\n\", df)\n"
   ]
  },
  {
   "cell_type": "code",
   "execution_count": 15,
   "id": "ada39471",
   "metadata": {},
   "outputs": [
    {
     "data": {
      "text/html": [
       "<div>\n",
       "<style scoped>\n",
       "    .dataframe tbody tr th:only-of-type {\n",
       "        vertical-align: middle;\n",
       "    }\n",
       "\n",
       "    .dataframe tbody tr th {\n",
       "        vertical-align: top;\n",
       "    }\n",
       "\n",
       "    .dataframe thead th {\n",
       "        text-align: right;\n",
       "    }\n",
       "</style>\n",
       "<table border=\"1\" class=\"dataframe\">\n",
       "  <thead>\n",
       "    <tr style=\"text-align: right;\">\n",
       "      <th></th>\n",
       "      <th>Age</th>\n",
       "      <th>Salary</th>\n",
       "    </tr>\n",
       "  </thead>\n",
       "  <tbody>\n",
       "    <tr>\n",
       "      <th>0</th>\n",
       "      <td>25.000000</td>\n",
       "      <td>50000.0</td>\n",
       "    </tr>\n",
       "    <tr>\n",
       "      <th>1</th>\n",
       "      <td>33.333333</td>\n",
       "      <td>60000.0</td>\n",
       "    </tr>\n",
       "    <tr>\n",
       "      <th>2</th>\n",
       "      <td>35.000000</td>\n",
       "      <td>70000.0</td>\n",
       "    </tr>\n",
       "    <tr>\n",
       "      <th>3</th>\n",
       "      <td>40.000000</td>\n",
       "      <td>80000.0</td>\n",
       "    </tr>\n",
       "    <tr>\n",
       "      <th>4</th>\n",
       "      <td>33.333333</td>\n",
       "      <td>90000.0</td>\n",
       "    </tr>\n",
       "  </tbody>\n",
       "</table>\n",
       "</div>"
      ],
      "text/plain": [
       "         Age   Salary\n",
       "0  25.000000  50000.0\n",
       "1  33.333333  60000.0\n",
       "2  35.000000  70000.0\n",
       "3  40.000000  80000.0\n",
       "4  33.333333  90000.0"
      ]
     },
     "execution_count": 15,
     "metadata": {},
     "output_type": "execute_result"
    }
   ],
   "source": [
    "df.head()"
   ]
  },
  {
   "cell_type": "markdown",
   "id": "66f6339e",
   "metadata": {},
   "source": [
    "<h1>Outlier Detection with Boxplot</h1>\n",
    "A boxplot is a graphical representation that helps in visualizing the distribution of data and identifying outliers. \n",
    "Here's how it works:\n",
    "\n",
    "<b>Components of a Boxplot:</b>\n",
    "<p><b>Box:</b>\n",
    "<br>-Represents the interquartile range (IQR), i.e., the middle 50% of the data. </br>\n",
    "<br>-The lower edge of the box is the 1st quartile (Q1), and the upper edge is the 3rd quartile (Q3).</br>\n",
    "</p>\n",
    "<b>Whiskers:</b>\n",
    "<br>Extend from Q1 to the smallest value within 1.5×IQR</br>\n",
    " -<b>1.5×IQR below Q1.</b>\n",
    "<br>Extend from Q3 to the largest value within 1.5×IQR.</br>\n",
    "-<b>1.5×IQR above Q3.</b>\n",
    "<b>Outliers:</b>\n",
    "Data points that fall outside the whiskers are considered outliers."
   ]
  },
  {
   "cell_type": "code",
   "execution_count": 4,
   "id": "851dec92",
   "metadata": {},
   "outputs": [],
   "source": [
    "#Step 1: Import Necessary Libraries\n",
    "import pandas as pd\n",
    "import numpy as np\n",
    "import matplotlib.pyplot as plt\n",
    "import seaborn as sns\n",
    "\n",
    "# Sample DataFrame\n",
    "data = {'Total_Bill': [10, 20, 15, 35, 50, 60, 100, 120, 200, 400]}  # Example data\n",
    "df = pd.DataFrame(data)\n"
   ]
  },
  {
   "cell_type": "code",
   "execution_count": 5,
   "id": "d16eb3c4",
   "metadata": {},
   "outputs": [
    {
     "data": {
      "image/png": "[encoded data removed]",
      "text/plain": [
       "<Figure size 800x600 with 1 Axes>"
      ]
     },
     "metadata": {},
     "output_type": "display_data"
    }
   ],
   "source": [
    "#Step 2: Create a Boxplot\n",
    "# Boxplot using Seaborn\n",
    "plt.figure(figsize=(8, 6))\n",
    "sns.boxplot(data=df, x='Total_Bill')\n",
    "plt.title(\"Boxplot of Total_Bill\")\n",
    "plt.xlabel(\"Total_Bill\")\n",
    "plt.show()\n"
   ]
  },
  {
   "cell_type": "code",
   "execution_count": 7,
   "id": "415d1cbd",
   "metadata": {},
   "outputs": [
    {
     "name": "stdout",
     "output_type": "stream",
     "text": [
      "Outliers:\n",
      "    Total_Bill\n",
      "9         400\n",
      "\n",
      "Data without Outliers:\n",
      "    Total_Bill\n",
      "0          10\n",
      "1          20\n",
      "2          15\n",
      "3          35\n",
      "4          50\n",
      "5          60\n",
      "6         100\n",
      "7         120\n",
      "8         200\n"
     ]
    }
   ],
   "source": [
    "\n",
    "#Step 3: Identify Outliers Programmatically\n",
    "# Calculate Q1, Q3, and IQR\n",
    "Q1 = df['Total_Bill'].quantile(0.25)  # 1st quartile\n",
    "Q3 = df['Total_Bill'].quantile(0.75)  # 3rd quartile\n",
    "IQR = Q3 - Q1  # Interquartile Range\n",
    "\n",
    "# Determine the lower and upper bounds\n",
    "lower_bound = Q1 - 1.5 * IQR\n",
    "upper_bound = Q3 + 1.5 * IQR\n",
    "\n",
    "# Identify outliers\n",
    "outliers = df[(df['Total_Bill'] < lower_bound) | (df['Total_Bill'] > upper_bound)]\n",
    "print(\"Outliers:\\n\", outliers)\n",
    "\n",
    "# Filter out outliers\n",
    "df_cleaned = df[(df['Total_Bill'] >= lower_bound) & (df['Total_Bill'] <= upper_bound)]\n",
    "print(\"\\nData without Outliers:\\n\", df_cleaned)\n"
   ]
  },
  {
   "cell_type": "markdown",
   "id": "51b46ad2",
   "metadata": {},
   "source": [
    "<h3>Data Transformation</h3>\n",
    "Normalization vs. Standardization\n",
    "Normalization: Rescales data to [0, 1] or [-1, 1].\n",
    "Formula: \n",
    "   <br><b> x` = x-min(x)/(max(x)-min(x))</b></br>\n",
    " \n",
    " "
   ]
  },
  {
   "cell_type": "code",
   "execution_count": 20,
   "id": "d83bea41",
   "metadata": {},
   "outputs": [
    {
     "data": {
      "text/html": [
       "<div>\n",
       "<style scoped>\n",
       "    .dataframe tbody tr th:only-of-type {\n",
       "        vertical-align: middle;\n",
       "    }\n",
       "\n",
       "    .dataframe tbody tr th {\n",
       "        vertical-align: top;\n",
       "    }\n",
       "\n",
       "    .dataframe thead th {\n",
       "        text-align: right;\n",
       "    }\n",
       "</style>\n",
       "<table border=\"1\" class=\"dataframe\">\n",
       "  <thead>\n",
       "    <tr style=\"text-align: right;\">\n",
       "      <th></th>\n",
       "      <th>Age</th>\n",
       "      <th>Salary</th>\n",
       "    </tr>\n",
       "  </thead>\n",
       "  <tbody>\n",
       "    <tr>\n",
       "      <th>0</th>\n",
       "      <td>25.000000</td>\n",
       "      <td>50000.0</td>\n",
       "    </tr>\n",
       "    <tr>\n",
       "      <th>1</th>\n",
       "      <td>33.333333</td>\n",
       "      <td>60000.0</td>\n",
       "    </tr>\n",
       "    <tr>\n",
       "      <th>2</th>\n",
       "      <td>35.000000</td>\n",
       "      <td>70000.0</td>\n",
       "    </tr>\n",
       "    <tr>\n",
       "      <th>3</th>\n",
       "      <td>40.000000</td>\n",
       "      <td>80000.0</td>\n",
       "    </tr>\n",
       "    <tr>\n",
       "      <th>4</th>\n",
       "      <td>33.333333</td>\n",
       "      <td>90000.0</td>\n",
       "    </tr>\n",
       "  </tbody>\n",
       "</table>\n",
       "</div>"
      ],
      "text/plain": [
       "         Age   Salary\n",
       "0  25.000000  50000.0\n",
       "1  33.333333  60000.0\n",
       "2  35.000000  70000.0\n",
       "3  40.000000  80000.0\n",
       "4  33.333333  90000.0"
      ]
     },
     "execution_count": 20,
     "metadata": {},
     "output_type": "execute_result"
    }
   ],
   "source": [
    "df"
   ]
  },
  {
   "cell_type": "code",
   "execution_count": 19,
   "id": "6087a70a",
   "metadata": {},
   "outputs": [
    {
     "name": "stdout",
     "output_type": "stream",
     "text": [
      "[[0.         0.        ]\n",
      " [0.55555556 0.25      ]\n",
      " [0.66666667 0.5       ]\n",
      " [1.         0.75      ]\n",
      " [0.55555556 1.        ]]\n"
     ]
    }
   ],
   "source": [
    "from sklearn.preprocessing import MinMaxScaler\n",
    "\n",
    "scaler = MinMaxScaler()\n",
    "normalized_data = scaler.fit_transform(df)\n",
    "print(normalized_data)\n"
   ]
  },
  {
   "cell_type": "markdown",
   "id": "ab40fe7e",
   "metadata": {},
   "source": [
    "<h3>Standardization: Scales data to have mean = 0 and standard deviation = 1.</h3>\n",
    "Formula: \n",
    "<br>𝑧=(𝑥−𝜇)/𝜎</br>\n",
    "x = Feature Value\n",
    "<br>𝜇 = Mean</br>\n",
    "𝜎 = Std Deviation\n",
    " "
   ]
  },
  {
   "cell_type": "code",
   "execution_count": 22,
   "id": "4832349e",
   "metadata": {},
   "outputs": [
    {
     "name": "stdout",
     "output_type": "stream",
     "text": [
      "[[-1.7251639  -1.41421356]\n",
      " [ 0.         -0.70710678]\n",
      " [ 0.34503278  0.        ]\n",
      " [ 1.38013112  0.70710678]\n",
      " [ 0.          1.41421356]]\n"
     ]
    }
   ],
   "source": [
    "from sklearn.preprocessing import StandardScaler\n",
    "scaler = StandardScaler()\n",
    "standardized_data = scaler.fit_transform(df)\n",
    "print(standardized_data)"
   ]
  },
  {
   "cell_type": "code",
   "execution_count": null,
   "id": "80dfe795",
   "metadata": {},
   "outputs": [],
   "source": []
  }
 ],
 "metadata": {
  "kernelspec": {
   "display_name": "Python 3 (ipykernel)",
   "language": "python",
   "name": "python3"
  },
  "language_info": {
   "codemirror_mode": {
    "name": "ipython",
    "version": 3
   },
   "file_extension": ".py",
   "mimetype": "text/x-python",
   "name": "python",
   "nbconvert_exporter": "python",
   "pygments_lexer": "ipython3",
   "version": "3.11.5"
  }
 },
 "nbformat": 4,
 "nbformat_minor": 5
}
